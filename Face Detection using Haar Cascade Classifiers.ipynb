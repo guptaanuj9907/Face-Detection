{
 "cells": [
  {
   "cell_type": "code",
   "execution_count": 1,
   "metadata": {},
   "outputs": [],
   "source": [
    "import cv2\n",
    "import numpy as np"
   ]
  },
  {
   "cell_type": "code",
   "execution_count": 2,
   "metadata": {},
   "outputs": [],
   "source": [
    "# img=cv2.imread(\"face.jpg\")\n",
    "# grey=cv2.cvtColor(img,cv2.COLOR_BGR2GRAY)\n",
    "# face_classifier=cv2.CascadeClassifier(\"haarcascade_frontalface_default.xml\")\n",
    "# face=face_classifier.detectMultiScale(grey,2,5)\n",
    "# for fac in face:\n",
    "#     x,y,w,h=face[0]\n",
    "#     print(x,y,w,h)\n",
    "#     cv2.rectangle(img,(x,y),(x+w,y+h),(0,255,0),3)\n",
    "    \n",
    "# cv2.imshow(\"img\",img)\n",
    "\n",
    "# cv2.waitKey(0)\n",
    "# cv2.destroyAllWindows()"
   ]
  },
  {
   "cell_type": "code",
   "execution_count": 3,
   "metadata": {},
   "outputs": [
    {
     "name": "stdout",
     "output_type": "stream",
     "text": [
      "270 214 192 192\n",
      "254 213 192 192\n",
      "257 212 192 192\n",
      "256 212 192 192\n",
      "255 212 192 192\n",
      "255 215 192 192\n",
      "254 214 192 192\n",
      "252 216 192 192\n",
      "253 217 192 192\n",
      "251 215 192 192\n",
      "249 214 192 192\n",
      "246 219 192 192\n",
      "246 223 192 192\n",
      "246 228 192 192\n",
      "245 229 192 192\n",
      "243 230 192 192\n",
      "241 228 192 192\n",
      "245 222 192 192\n",
      "251 212 192 192\n",
      "256 211 192 192\n",
      "261 206 192 192\n",
      "264 204 192 192\n",
      "251 205 192 192\n",
      "238 212 192 192\n",
      "231 215 192 192\n",
      "230 221 192 192\n",
      "231 221 192 192\n",
      "235 221 192 192\n",
      "238 219 192 192\n",
      "237 218 192 192\n",
      "238 218 192 192\n",
      "227 199 192 192\n",
      "251 209 192 192\n",
      "248 217 192 192\n",
      "243 227 192 192\n",
      "239 221 192 192\n",
      "232 210 192 192\n",
      "225 193 192 192\n",
      "273 191 192 192\n",
      "280 211 192 192\n",
      "288 220 192 192\n",
      "282 229 192 192\n",
      "280 223 192 192\n",
      "275 217 192 192\n",
      "272 200 192 192\n",
      "268 192 192 192\n",
      "264 178 192 192\n",
      "257 171 192 192\n",
      "265 167 192 192\n",
      "204 212 192 192\n",
      "238 227 192 192\n",
      "242 224 192 192\n",
      "246 214 192 192\n",
      "241 223 192 192\n",
      "242 224 192 192\n",
      "243 223 192 192\n",
      "243 223 192 192\n",
      "240 220 192 192\n",
      "240 220 192 192\n",
      "240 220 192 192\n",
      "240 222 192 192\n",
      "238 222 192 192\n",
      "237 223 192 192\n",
      "236 221 192 192\n",
      "236 221 192 192\n",
      "236 224 192 192\n",
      "236 221 192 192\n",
      "238 227 192 192\n",
      "240 228 192 192\n"
     ]
    }
   ],
   "source": [
    "# img=cv2.imread(\"face.jpg\")\n",
    "cap=cv2.VideoCapture(0)\n",
    "while True:\n",
    "    ret,frame=cap.read()\n",
    "    grey=cv2.cvtColor(frame,cv2.COLOR_BGR2GRAY)\n",
    "    face_classifier=cv2.CascadeClassifier(\"haarcascade_frontalface_default.xml\")\n",
    "    face=face_classifier.detectMultiScale(grey,2,5)\n",
    "    for fac in face:\n",
    "        x,y,w,h=face[0]\n",
    "        print(x,y,w,h)\n",
    "        cv2.rectangle(frame,(x,y),(x+w,y+h),(0,255,0),3)\n",
    "    cv2.imshow(\"img\",frame)\n",
    "    if cv2.waitKey(1)==13:\n",
    "        break\n",
    "cap.release()\n",
    "# cv2.waitKey(0)\n",
    "cv2.destroyAllWindows()"
   ]
  },
  {
   "cell_type": "code",
   "execution_count": null,
   "metadata": {},
   "outputs": [],
   "source": []
  }
 ],
 "metadata": {
  "kernelspec": {
   "display_name": "Python 3",
   "language": "python",
   "name": "python3"
  },
  "language_info": {
   "codemirror_mode": {
    "name": "ipython",
    "version": 3
   },
   "file_extension": ".py",
   "mimetype": "text/x-python",
   "name": "python",
   "nbconvert_exporter": "python",
   "pygments_lexer": "ipython3",
   "version": "3.7.5"
  }
 },
 "nbformat": 4,
 "nbformat_minor": 4
}
