{
 "cells": [
  {
   "cell_type": "code",
   "execution_count": 14,
   "metadata": {},
   "outputs": [],
   "source": [
    "import cv2\n",
    "import numpy as np"
   ]
  },
  {
   "cell_type": "markdown",
   "metadata": {},
   "source": [
    "# Method:1"
   ]
  },
  {
   "cell_type": "code",
   "execution_count": 17,
   "metadata": {},
   "outputs": [],
   "source": [
    "cap=cv2.VideoCapture(\"C:/Users/CG-DTE/AppData/Local/Programs/Python/Python37/Scripts/OpenCV/vtest.avi\")\n",
    "fgbg=cv2.createBackgroundSubtractorMOG2()\n",
    "while True:\n",
    "    ret,frame=cap.read()\n",
    "    fg=fgbg.apply(frame)\n",
    "    cv2.imshow(\"video\",frame)\n",
    "    cv2.imshow(\"video\",fg)\n",
    "    if cv2.waitKey(1)==13:\n",
    "        break\n",
    "cap.release()\n",
    "cv2.destroyAllWindows()"
   ]
  },
  {
   "cell_type": "markdown",
   "metadata": {},
   "source": [
    "# Method:2"
   ]
  },
  {
   "cell_type": "code",
   "execution_count": 18,
   "metadata": {},
   "outputs": [],
   "source": [
    "cap=cv2.VideoCapture(\"C:/Users/CG-DTE/AppData/Local/Programs/Python/Python37/Scripts/OpenCV/vtest.avi\")\n",
    "fgbg=cv2.createBackgroundSubtractorKNN()\n",
    "while True:\n",
    "    ret,frame=cap.read()\n",
    "    fg=fgbg.apply(frame)\n",
    "    cv2.imshow(\"video\",frame)\n",
    "    cv2.imshow(\"video\",fg)\n",
    "    if cv2.waitKey(1)==13:\n",
    "        break\n",
    "cap.release()\n",
    "cv2.destroyAllWindows()"
   ]
  },
  {
   "cell_type": "code",
   "execution_count": null,
   "metadata": {},
   "outputs": [],
   "source": []
  }
 ],
 "metadata": {
  "kernelspec": {
   "display_name": "Python 3",
   "language": "python",
   "name": "python3"
  },
  "language_info": {
   "codemirror_mode": {
    "name": "ipython",
    "version": 3
   },
   "file_extension": ".py",
   "mimetype": "text/x-python",
   "name": "python",
   "nbconvert_exporter": "python",
   "pygments_lexer": "ipython3",
   "version": "3.7.5"
  }
 },
 "nbformat": 4,
 "nbformat_minor": 4
}
