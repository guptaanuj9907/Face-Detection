{
 "cells": [
  {
   "cell_type": "code",
   "execution_count": 1,
   "metadata": {},
   "outputs": [],
   "source": [
    "import cv2\n",
    "import numpy as np"
   ]
  },
  {
   "cell_type": "markdown",
   "metadata": {},
   "source": [
    "# Shi Tomashi Method"
   ]
  },
  {
   "cell_type": "code",
   "execution_count": 17,
   "metadata": {},
   "outputs": [
    {
     "name": "stdout",
     "output_type": "stream",
     "text": [
      "[110. 135.]\n",
      "[110.  56.]\n",
      "[163. 136.]\n",
      "[ 56. 135.]\n",
      "[56. 57.]\n",
      "[163.  56.]\n",
      "[188. 136.]\n",
      "[109.  82.]\n",
      "[ 31. 135.]\n",
      "[110. 189.]\n",
      "[56. 82.]\n",
      "[188.  56.]\n",
      "[31. 57.]\n",
      "[163. 189.]\n",
      "[110.  30.]\n",
      "[188. 189.]\n",
      "[ 84. 135.]\n",
      "[110. 162.]\n",
      "[136.  56.]\n",
      "[31. 82.]\n",
      "[163. 161.]\n",
      "[ 31. 110.]\n",
      "[136. 136.]\n",
      "[ 56. 162.]\n",
      "[163.  31.]\n",
      "[ 56. 110.]\n",
      "[ 31. 161.]\n",
      "[ 56. 188.]\n",
      "[135. 161.]\n",
      "[109. 110.]\n",
      "[188.  31.]\n",
      "[109. 214.]\n",
      "[ 31. 189.]\n",
      "[163.  82.]\n",
      "[135. 189.]\n",
      "[82. 31.]\n",
      "[135.  31.]\n",
      "[56. 30.]\n",
      "[84. 57.]\n",
      "[188.  82.]\n",
      "[84. 82.]\n",
      "[214.  55.]\n",
      "[188. 161.]\n",
      "[ 84. 110.]\n",
      "[ 56. 214.]\n",
      "[  5. 134.]\n",
      "[214. 137.]\n",
      "[188. 110.]\n",
      "[ 5. 58.]\n",
      "[31. 29.]\n",
      "[214.  84.]\n",
      "[111.   5.]\n",
      "[  5. 187.]\n",
      "[ 84. 161.]\n",
      "[ 82. 189.]\n",
      "[214. 108.]\n",
      "[137.  82.]\n",
      "[214. 213.]\n",
      "[5. 5.]\n",
      "[162. 214.]\n",
      "[135.   5.]\n",
      "[ 84. 214.]\n",
      "[ 31. 214.]\n",
      "[  5. 110.]\n",
      "[58.  5.]\n",
      "[214. 161.]\n",
      "[137. 214.]\n",
      "[ 5. 29.]\n",
      "[  5. 163.]\n",
      "[137. 110.]\n",
      "[190. 213.]\n",
      "[82.  5.]\n",
      "[29.  5.]\n",
      "[214. 189.]\n",
      "[162. 110.]\n",
      "[ 5. 82.]\n",
      "[188.   5.]\n",
      "[214.  31.]\n",
      "[163.   5.]\n",
      "[151. 226.]\n"
     ]
    }
   ],
   "source": [
    "img=cv2.imread(\"chess.jpg\")\n",
    "grey=cv2.cvtColor(img,cv2.COLOR_BGR2GRAY)\n",
    "shi=cv2.goodFeaturesToTrack(grey,80,0.01,5)\n",
    "for s in shi:\n",
    "    s=s.ravel()\n",
    "    x,y=s[:]\n",
    "    print(s)\n",
    "    cv2.circle(img,(x,y),3,(255,255,0),-1)\n",
    "cv2.imshow(\"img\",img)\n",
    "cv2.waitKey(0)\n",
    "cv2.destroyAllWindows()"
   ]
  },
  {
   "cell_type": "code",
   "execution_count": null,
   "metadata": {},
   "outputs": [],
   "source": []
  }
 ],
 "metadata": {
  "kernelspec": {
   "display_name": "Python 3",
   "language": "python",
   "name": "python3"
  },
  "language_info": {
   "codemirror_mode": {
    "name": "ipython",
    "version": 3
   },
   "file_extension": ".py",
   "mimetype": "text/x-python",
   "name": "python",
   "nbconvert_exporter": "python",
   "pygments_lexer": "ipython3",
   "version": "3.7.5"
  }
 },
 "nbformat": 4,
 "nbformat_minor": 4
}
