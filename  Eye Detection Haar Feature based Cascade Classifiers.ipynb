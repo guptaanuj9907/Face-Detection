{
 "cells": [
  {
   "cell_type": "code",
   "execution_count": 1,
   "metadata": {},
   "outputs": [],
   "source": [
    "import cv2\n"
   ]
  },
  {
   "cell_type": "code",
   "execution_count": 17,
   "metadata": {},
   "outputs": [
    {
     "name": "stdout",
     "output_type": "stream",
     "text": [
      "[89 22 91 91]\n",
      "89 22 91 91\n",
      "18 22 23 23\n"
     ]
    }
   ],
   "source": [
    "img=cv2.imread(\"face.jpg\")\n",
    "grey=cv2.cvtColor(img,cv2.COLOR_BGR2GRAY)\n",
    "face_classifier=cv2.CascadeClassifier(\"haarcascade_frontalface_default.xml\")\n",
    "eye_classifier=cv2.CascadeClassifier(\"haarcascade_eye_tree_eyeglasses.xml\")\n",
    "face=face_classifier.detectMultiScale(grey,1.1,4)\n",
    "for fac in face:\n",
    "    print(fac)\n",
    "    x,y,w,h=fac[:]\n",
    "    print(x,y,w,h)\n",
    "    roi_gray=grey[y:y+h,x:x+h]\n",
    "    roi_img=img[y:y+h,x:x+h]\n",
    "    cv2.rectangle(img,(x,y),(x+w,y+h),(0,255,0),3)\n",
    "    eye=eye_classifier.detectMultiScale(roi_gray,1.1,4)\n",
    "    for e in eye:\n",
    "        ex,ey,ew,eh=e[:]\n",
    "        print(ex,ey,ew,eh)\n",
    "        cv2.rectangle(roi_img,(ex,ey),(ex+ew,ey+eh),(0,255,0),3)\n",
    "    \n",
    "    \n",
    "cv2.imshow(\"img\",img)\n",
    "cv2.waitKey(0)\n",
    "cv2.destroyAllWindows()"
   ]
  },
  {
   "cell_type": "code",
   "execution_count": 20,
   "metadata": {},
   "outputs": [
    {
     "name": "stdout",
     "output_type": "stream",
     "text": [
      "166 68 27 27\n",
      "110 68 30 30\n"
     ]
    }
   ],
   "source": [
    "img=cv2.imread(\"face2.jpg\")\n",
    "grey=cv2.cvtColor(img,cv2.COLOR_BGR2GRAY)\n",
    "\n",
    "eye=eye_classifier.detectMultiScale(grey,1.1,4)\n",
    "for e in eye:\n",
    "    ex,ey,ew,eh=e[:]\n",
    "    print(ex,ey,ew,eh)\n",
    "    cv2.rectangle(img,(ex,ey),(ex+ew,ey+eh),(0,255,0),3)\n",
    "    \n",
    "    \n",
    "cv2.imshow(\"img\",img)\n",
    "cv2.waitKey(0)\n",
    "cv2.destroyAllWindows()"
   ]
  },
  {
   "cell_type": "code",
   "execution_count": null,
   "metadata": {},
   "outputs": [],
   "source": []
  }
 ],
 "metadata": {
  "kernelspec": {
   "display_name": "Python 3",
   "language": "python",
   "name": "python3"
  },
  "language_info": {
   "codemirror_mode": {
    "name": "ipython",
    "version": 3
   },
   "file_extension": ".py",
   "mimetype": "text/x-python",
   "name": "python",
   "nbconvert_exporter": "python",
   "pygments_lexer": "ipython3",
   "version": "3.7.5"
  }
 },
 "nbformat": 4,
 "nbformat_minor": 4
}
